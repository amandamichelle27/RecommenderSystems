{
  "nbformat": 4,
  "nbformat_minor": 0,
  "metadata": {
    "colab": {
      "name": "Untitled4.ipynb",
      "version": "0.3.2",
      "views": {},
      "default_view": {},
      "provenance": []
    }
  },
  "cells": [
    {
      "metadata": {
        "id": "cGo-msKsuS1A",
        "colab_type": "text"
      },
      "cell_type": "markdown",
      "source": [
        "#The Company"
      ]
    },
    {
      "metadata": {
        "id": "hvrZp9gmuS1C",
        "colab_type": "text"
      },
      "cell_type": "markdown",
      "source": [
        "Most people are familiar with Netflix and their services. For those who aren't, Netflix is an entertainment company that offers movie and tv show streaming online. According to a recent study, 75% of what users watch is based off of the company's recommender system. "
      ]
    },
    {
      "metadata": {
        "id": "2tNI78qTuS1D",
        "colab_type": "text"
      },
      "cell_type": "markdown",
      "source": [
        "###Who are the target users?"
      ]
    },
    {
      "metadata": {
        "id": "v4JACT7nuS1D",
        "colab_type": "text"
      },
      "cell_type": "markdown",
      "source": [
        "Netflix currently has over 118 million streaming subscribers globally. The users range in age from retirees to teenager, and each has their own personal intrests when it comes to media. "
      ]
    },
    {
      "metadata": {
        "id": "aMKK7GdUuS1E",
        "colab_type": "text"
      },
      "cell_type": "markdown",
      "source": [
        "###What is it's goal?"
      ]
    },
    {
      "metadata": {
        "id": "v9N_e6m1uS1E",
        "colab_type": "text"
      },
      "cell_type": "markdown",
      "source": [
        "Neflix's goal is to use recommender system to specifically target each user's intrests and suggest entertainment based on their specific likes and intrests. The better the system is at making recomendations for users to watch the more the users are likely to continue using the service after they've finished what they are currently watching. This keeps users in a loop continuing to pay for and use the product with not need to stop. "
      ]
    },
    {
      "metadata": {
        "id": "nmrg7W1puS1F",
        "colab_type": "text"
      },
      "cell_type": "markdown",
      "source": [
        "###How can it achieve it's goals?"
      ]
    },
    {
      "metadata": {
        "id": "ae_1UN3ouS1F",
        "colab_type": "text"
      },
      "cell_type": "markdown",
      "source": [
        "Netflix currently makes the recommendations by analyzing ratings that the user gives, and looking at the types of entertainment that a user watches. To improve upon the process and have a more accurate view of what each user will be interested in, would be to give users a way to customize the data that Netflix has already collected. Say that Netflix has seen that a user loves watching TV dramas with a strong female lead, the alogrithm will suggest things based on what it has collected. Aftera while the user might want to have some different suggestion, so a way to access and change their recomendation settings will allow users more control over what their recomendations and allow Netflix a better overall grasp of what that individual is looking for. "
      ]
    }
  ]
}